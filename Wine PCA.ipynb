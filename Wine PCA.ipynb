{
 "cells": [
  {
   "cell_type": "code",
   "execution_count": 1,
   "id": "f9cb5275",
   "metadata": {},
   "outputs": [],
   "source": [
    "import pandas as pd\n",
    "import numpy as np\n",
    "import seaborn as sns\n",
    "import matplotlib.pyplot as plt"
   ]
  },
  {
   "cell_type": "code",
   "execution_count": 2,
   "id": "0b79bb93",
   "metadata": {},
   "outputs": [
    {
     "data": {
      "text/html": [
       "<div>\n",
       "<style scoped>\n",
       "    .dataframe tbody tr th:only-of-type {\n",
       "        vertical-align: middle;\n",
       "    }\n",
       "\n",
       "    .dataframe tbody tr th {\n",
       "        vertical-align: top;\n",
       "    }\n",
       "\n",
       "    .dataframe thead th {\n",
       "        text-align: right;\n",
       "    }\n",
       "</style>\n",
       "<table border=\"1\" class=\"dataframe\">\n",
       "  <thead>\n",
       "    <tr style=\"text-align: right;\">\n",
       "      <th></th>\n",
       "      <th>Type</th>\n",
       "      <th>Alcohol</th>\n",
       "      <th>Malic</th>\n",
       "      <th>Ash</th>\n",
       "      <th>Alcalinity</th>\n",
       "      <th>Magnesium</th>\n",
       "      <th>Phenols</th>\n",
       "      <th>Flavanoids</th>\n",
       "      <th>Nonflavanoids</th>\n",
       "      <th>Proanthocyanins</th>\n",
       "      <th>Color</th>\n",
       "      <th>Hue</th>\n",
       "      <th>Dilution</th>\n",
       "      <th>Proline</th>\n",
       "    </tr>\n",
       "  </thead>\n",
       "  <tbody>\n",
       "    <tr>\n",
       "      <th>0</th>\n",
       "      <td>1</td>\n",
       "      <td>14.23</td>\n",
       "      <td>1.71</td>\n",
       "      <td>2.43</td>\n",
       "      <td>15.6</td>\n",
       "      <td>127</td>\n",
       "      <td>2.80</td>\n",
       "      <td>3.06</td>\n",
       "      <td>0.28</td>\n",
       "      <td>2.29</td>\n",
       "      <td>5.64</td>\n",
       "      <td>1.04</td>\n",
       "      <td>3.92</td>\n",
       "      <td>1065</td>\n",
       "    </tr>\n",
       "    <tr>\n",
       "      <th>1</th>\n",
       "      <td>1</td>\n",
       "      <td>13.20</td>\n",
       "      <td>1.78</td>\n",
       "      <td>2.14</td>\n",
       "      <td>11.2</td>\n",
       "      <td>100</td>\n",
       "      <td>2.65</td>\n",
       "      <td>2.76</td>\n",
       "      <td>0.26</td>\n",
       "      <td>1.28</td>\n",
       "      <td>4.38</td>\n",
       "      <td>1.05</td>\n",
       "      <td>3.40</td>\n",
       "      <td>1050</td>\n",
       "    </tr>\n",
       "    <tr>\n",
       "      <th>2</th>\n",
       "      <td>1</td>\n",
       "      <td>13.16</td>\n",
       "      <td>2.36</td>\n",
       "      <td>2.67</td>\n",
       "      <td>18.6</td>\n",
       "      <td>101</td>\n",
       "      <td>2.80</td>\n",
       "      <td>3.24</td>\n",
       "      <td>0.30</td>\n",
       "      <td>2.81</td>\n",
       "      <td>5.68</td>\n",
       "      <td>1.03</td>\n",
       "      <td>3.17</td>\n",
       "      <td>1185</td>\n",
       "    </tr>\n",
       "    <tr>\n",
       "      <th>3</th>\n",
       "      <td>1</td>\n",
       "      <td>14.37</td>\n",
       "      <td>1.95</td>\n",
       "      <td>2.50</td>\n",
       "      <td>16.8</td>\n",
       "      <td>113</td>\n",
       "      <td>3.85</td>\n",
       "      <td>3.49</td>\n",
       "      <td>0.24</td>\n",
       "      <td>2.18</td>\n",
       "      <td>7.80</td>\n",
       "      <td>0.86</td>\n",
       "      <td>3.45</td>\n",
       "      <td>1480</td>\n",
       "    </tr>\n",
       "    <tr>\n",
       "      <th>4</th>\n",
       "      <td>1</td>\n",
       "      <td>13.24</td>\n",
       "      <td>2.59</td>\n",
       "      <td>2.87</td>\n",
       "      <td>21.0</td>\n",
       "      <td>118</td>\n",
       "      <td>2.80</td>\n",
       "      <td>2.69</td>\n",
       "      <td>0.39</td>\n",
       "      <td>1.82</td>\n",
       "      <td>4.32</td>\n",
       "      <td>1.04</td>\n",
       "      <td>2.93</td>\n",
       "      <td>735</td>\n",
       "    </tr>\n",
       "  </tbody>\n",
       "</table>\n",
       "</div>"
      ],
      "text/plain": [
       "   Type  Alcohol  Malic   Ash  Alcalinity  Magnesium  Phenols  Flavanoids  \\\n",
       "0     1    14.23   1.71  2.43        15.6        127     2.80        3.06   \n",
       "1     1    13.20   1.78  2.14        11.2        100     2.65        2.76   \n",
       "2     1    13.16   2.36  2.67        18.6        101     2.80        3.24   \n",
       "3     1    14.37   1.95  2.50        16.8        113     3.85        3.49   \n",
       "4     1    13.24   2.59  2.87        21.0        118     2.80        2.69   \n",
       "\n",
       "   Nonflavanoids  Proanthocyanins  Color   Hue  Dilution  Proline  \n",
       "0           0.28             2.29   5.64  1.04      3.92     1065  \n",
       "1           0.26             1.28   4.38  1.05      3.40     1050  \n",
       "2           0.30             2.81   5.68  1.03      3.17     1185  \n",
       "3           0.24             2.18   7.80  0.86      3.45     1480  \n",
       "4           0.39             1.82   4.32  1.04      2.93      735  "
      ]
     },
     "execution_count": 2,
     "metadata": {},
     "output_type": "execute_result"
    }
   ],
   "source": [
    "wine = pd.read_csv(\"wine.csv\")\n",
    "wine.head()"
   ]
  },
  {
   "cell_type": "code",
   "execution_count": 3,
   "id": "7f582bbb",
   "metadata": {},
   "outputs": [
    {
     "data": {
      "text/plain": [
       "(178, 14)"
      ]
     },
     "execution_count": 3,
     "metadata": {},
     "output_type": "execute_result"
    }
   ],
   "source": [
    "wine.shape"
   ]
  },
  {
   "cell_type": "code",
   "execution_count": 4,
   "id": "9fc39aa5",
   "metadata": {},
   "outputs": [
    {
     "name": "stdout",
     "output_type": "stream",
     "text": [
      "<class 'pandas.core.frame.DataFrame'>\n",
      "RangeIndex: 178 entries, 0 to 177\n",
      "Data columns (total 14 columns):\n",
      " #   Column           Non-Null Count  Dtype  \n",
      "---  ------           --------------  -----  \n",
      " 0   Type             178 non-null    int64  \n",
      " 1   Alcohol          178 non-null    float64\n",
      " 2   Malic            178 non-null    float64\n",
      " 3   Ash              178 non-null    float64\n",
      " 4   Alcalinity       178 non-null    float64\n",
      " 5   Magnesium        178 non-null    int64  \n",
      " 6   Phenols          178 non-null    float64\n",
      " 7   Flavanoids       178 non-null    float64\n",
      " 8   Nonflavanoids    178 non-null    float64\n",
      " 9   Proanthocyanins  178 non-null    float64\n",
      " 10  Color            178 non-null    float64\n",
      " 11  Hue              178 non-null    float64\n",
      " 12  Dilution         178 non-null    float64\n",
      " 13  Proline          178 non-null    int64  \n",
      "dtypes: float64(11), int64(3)\n",
      "memory usage: 19.6 KB\n"
     ]
    }
   ],
   "source": [
    "wine.info()"
   ]
  },
  {
   "cell_type": "code",
   "execution_count": 5,
   "id": "646cfbb4",
   "metadata": {},
   "outputs": [
    {
     "data": {
      "text/html": [
       "<div>\n",
       "<style scoped>\n",
       "    .dataframe tbody tr th:only-of-type {\n",
       "        vertical-align: middle;\n",
       "    }\n",
       "\n",
       "    .dataframe tbody tr th {\n",
       "        vertical-align: top;\n",
       "    }\n",
       "\n",
       "    .dataframe thead th {\n",
       "        text-align: right;\n",
       "    }\n",
       "</style>\n",
       "<table border=\"1\" class=\"dataframe\">\n",
       "  <thead>\n",
       "    <tr style=\"text-align: right;\">\n",
       "      <th></th>\n",
       "      <th>Type</th>\n",
       "      <th>Alcohol</th>\n",
       "      <th>Malic</th>\n",
       "      <th>Ash</th>\n",
       "      <th>Alcalinity</th>\n",
       "      <th>Magnesium</th>\n",
       "      <th>Phenols</th>\n",
       "      <th>Flavanoids</th>\n",
       "      <th>Nonflavanoids</th>\n",
       "      <th>Proanthocyanins</th>\n",
       "      <th>Color</th>\n",
       "      <th>Hue</th>\n",
       "      <th>Dilution</th>\n",
       "      <th>Proline</th>\n",
       "    </tr>\n",
       "  </thead>\n",
       "  <tbody>\n",
       "    <tr>\n",
       "      <th>count</th>\n",
       "      <td>178.000000</td>\n",
       "      <td>178.000000</td>\n",
       "      <td>178.000000</td>\n",
       "      <td>178.000000</td>\n",
       "      <td>178.000000</td>\n",
       "      <td>178.000000</td>\n",
       "      <td>178.000000</td>\n",
       "      <td>178.000000</td>\n",
       "      <td>178.000000</td>\n",
       "      <td>178.000000</td>\n",
       "      <td>178.000000</td>\n",
       "      <td>178.000000</td>\n",
       "      <td>178.000000</td>\n",
       "      <td>178.000000</td>\n",
       "    </tr>\n",
       "    <tr>\n",
       "      <th>mean</th>\n",
       "      <td>1.938202</td>\n",
       "      <td>13.000618</td>\n",
       "      <td>2.336348</td>\n",
       "      <td>2.366517</td>\n",
       "      <td>19.494944</td>\n",
       "      <td>99.741573</td>\n",
       "      <td>2.295112</td>\n",
       "      <td>2.029270</td>\n",
       "      <td>0.361854</td>\n",
       "      <td>1.590899</td>\n",
       "      <td>5.058090</td>\n",
       "      <td>0.957449</td>\n",
       "      <td>2.611685</td>\n",
       "      <td>746.893258</td>\n",
       "    </tr>\n",
       "    <tr>\n",
       "      <th>std</th>\n",
       "      <td>0.775035</td>\n",
       "      <td>0.811827</td>\n",
       "      <td>1.117146</td>\n",
       "      <td>0.274344</td>\n",
       "      <td>3.339564</td>\n",
       "      <td>14.282484</td>\n",
       "      <td>0.625851</td>\n",
       "      <td>0.998859</td>\n",
       "      <td>0.124453</td>\n",
       "      <td>0.572359</td>\n",
       "      <td>2.318286</td>\n",
       "      <td>0.228572</td>\n",
       "      <td>0.709990</td>\n",
       "      <td>314.907474</td>\n",
       "    </tr>\n",
       "    <tr>\n",
       "      <th>min</th>\n",
       "      <td>1.000000</td>\n",
       "      <td>11.030000</td>\n",
       "      <td>0.740000</td>\n",
       "      <td>1.360000</td>\n",
       "      <td>10.600000</td>\n",
       "      <td>70.000000</td>\n",
       "      <td>0.980000</td>\n",
       "      <td>0.340000</td>\n",
       "      <td>0.130000</td>\n",
       "      <td>0.410000</td>\n",
       "      <td>1.280000</td>\n",
       "      <td>0.480000</td>\n",
       "      <td>1.270000</td>\n",
       "      <td>278.000000</td>\n",
       "    </tr>\n",
       "    <tr>\n",
       "      <th>25%</th>\n",
       "      <td>1.000000</td>\n",
       "      <td>12.362500</td>\n",
       "      <td>1.602500</td>\n",
       "      <td>2.210000</td>\n",
       "      <td>17.200000</td>\n",
       "      <td>88.000000</td>\n",
       "      <td>1.742500</td>\n",
       "      <td>1.205000</td>\n",
       "      <td>0.270000</td>\n",
       "      <td>1.250000</td>\n",
       "      <td>3.220000</td>\n",
       "      <td>0.782500</td>\n",
       "      <td>1.937500</td>\n",
       "      <td>500.500000</td>\n",
       "    </tr>\n",
       "    <tr>\n",
       "      <th>50%</th>\n",
       "      <td>2.000000</td>\n",
       "      <td>13.050000</td>\n",
       "      <td>1.865000</td>\n",
       "      <td>2.360000</td>\n",
       "      <td>19.500000</td>\n",
       "      <td>98.000000</td>\n",
       "      <td>2.355000</td>\n",
       "      <td>2.135000</td>\n",
       "      <td>0.340000</td>\n",
       "      <td>1.555000</td>\n",
       "      <td>4.690000</td>\n",
       "      <td>0.965000</td>\n",
       "      <td>2.780000</td>\n",
       "      <td>673.500000</td>\n",
       "    </tr>\n",
       "    <tr>\n",
       "      <th>75%</th>\n",
       "      <td>3.000000</td>\n",
       "      <td>13.677500</td>\n",
       "      <td>3.082500</td>\n",
       "      <td>2.557500</td>\n",
       "      <td>21.500000</td>\n",
       "      <td>107.000000</td>\n",
       "      <td>2.800000</td>\n",
       "      <td>2.875000</td>\n",
       "      <td>0.437500</td>\n",
       "      <td>1.950000</td>\n",
       "      <td>6.200000</td>\n",
       "      <td>1.120000</td>\n",
       "      <td>3.170000</td>\n",
       "      <td>985.000000</td>\n",
       "    </tr>\n",
       "    <tr>\n",
       "      <th>max</th>\n",
       "      <td>3.000000</td>\n",
       "      <td>14.830000</td>\n",
       "      <td>5.800000</td>\n",
       "      <td>3.230000</td>\n",
       "      <td>30.000000</td>\n",
       "      <td>162.000000</td>\n",
       "      <td>3.880000</td>\n",
       "      <td>5.080000</td>\n",
       "      <td>0.660000</td>\n",
       "      <td>3.580000</td>\n",
       "      <td>13.000000</td>\n",
       "      <td>1.710000</td>\n",
       "      <td>4.000000</td>\n",
       "      <td>1680.000000</td>\n",
       "    </tr>\n",
       "  </tbody>\n",
       "</table>\n",
       "</div>"
      ],
      "text/plain": [
       "             Type     Alcohol       Malic         Ash  Alcalinity   Magnesium  \\\n",
       "count  178.000000  178.000000  178.000000  178.000000  178.000000  178.000000   \n",
       "mean     1.938202   13.000618    2.336348    2.366517   19.494944   99.741573   \n",
       "std      0.775035    0.811827    1.117146    0.274344    3.339564   14.282484   \n",
       "min      1.000000   11.030000    0.740000    1.360000   10.600000   70.000000   \n",
       "25%      1.000000   12.362500    1.602500    2.210000   17.200000   88.000000   \n",
       "50%      2.000000   13.050000    1.865000    2.360000   19.500000   98.000000   \n",
       "75%      3.000000   13.677500    3.082500    2.557500   21.500000  107.000000   \n",
       "max      3.000000   14.830000    5.800000    3.230000   30.000000  162.000000   \n",
       "\n",
       "          Phenols  Flavanoids  Nonflavanoids  Proanthocyanins       Color  \\\n",
       "count  178.000000  178.000000     178.000000       178.000000  178.000000   \n",
       "mean     2.295112    2.029270       0.361854         1.590899    5.058090   \n",
       "std      0.625851    0.998859       0.124453         0.572359    2.318286   \n",
       "min      0.980000    0.340000       0.130000         0.410000    1.280000   \n",
       "25%      1.742500    1.205000       0.270000         1.250000    3.220000   \n",
       "50%      2.355000    2.135000       0.340000         1.555000    4.690000   \n",
       "75%      2.800000    2.875000       0.437500         1.950000    6.200000   \n",
       "max      3.880000    5.080000       0.660000         3.580000   13.000000   \n",
       "\n",
       "              Hue    Dilution      Proline  \n",
       "count  178.000000  178.000000   178.000000  \n",
       "mean     0.957449    2.611685   746.893258  \n",
       "std      0.228572    0.709990   314.907474  \n",
       "min      0.480000    1.270000   278.000000  \n",
       "25%      0.782500    1.937500   500.500000  \n",
       "50%      0.965000    2.780000   673.500000  \n",
       "75%      1.120000    3.170000   985.000000  \n",
       "max      1.710000    4.000000  1680.000000  "
      ]
     },
     "execution_count": 5,
     "metadata": {},
     "output_type": "execute_result"
    }
   ],
   "source": [
    "wine.describe()"
   ]
  },
  {
   "cell_type": "markdown",
   "id": "f867302f",
   "metadata": {},
   "source": [
    "# Exploratory Data Analysis(EDA)"
   ]
  },
  {
   "cell_type": "code",
   "execution_count": 6,
   "id": "9a445c06",
   "metadata": {},
   "outputs": [
    {
     "data": {
      "text/plain": [
       "Type               0\n",
       "Alcohol            0\n",
       "Malic              0\n",
       "Ash                0\n",
       "Alcalinity         0\n",
       "Magnesium          0\n",
       "Phenols            0\n",
       "Flavanoids         0\n",
       "Nonflavanoids      0\n",
       "Proanthocyanins    0\n",
       "Color              0\n",
       "Hue                0\n",
       "Dilution           0\n",
       "Proline            0\n",
       "dtype: int64"
      ]
     },
     "execution_count": 6,
     "metadata": {},
     "output_type": "execute_result"
    }
   ],
   "source": [
    "wine.isnull().sum()"
   ]
  },
  {
   "cell_type": "markdown",
   "id": "61a137af",
   "metadata": {},
   "source": [
    "# There is no any null value"
   ]
  },
  {
   "cell_type": "code",
   "execution_count": 7,
   "id": "00596433",
   "metadata": {},
   "outputs": [
    {
     "data": {
      "text/html": [
       "<div>\n",
       "<style scoped>\n",
       "    .dataframe tbody tr th:only-of-type {\n",
       "        vertical-align: middle;\n",
       "    }\n",
       "\n",
       "    .dataframe tbody tr th {\n",
       "        vertical-align: top;\n",
       "    }\n",
       "\n",
       "    .dataframe thead th {\n",
       "        text-align: right;\n",
       "    }\n",
       "</style>\n",
       "<table border=\"1\" class=\"dataframe\">\n",
       "  <thead>\n",
       "    <tr style=\"text-align: right;\">\n",
       "      <th></th>\n",
       "      <th>Type</th>\n",
       "      <th>Alcohol</th>\n",
       "      <th>Malic</th>\n",
       "      <th>Ash</th>\n",
       "      <th>Alcalinity</th>\n",
       "      <th>Magnesium</th>\n",
       "      <th>Phenols</th>\n",
       "      <th>Flavanoids</th>\n",
       "      <th>Nonflavanoids</th>\n",
       "      <th>Proanthocyanins</th>\n",
       "      <th>Color</th>\n",
       "      <th>Hue</th>\n",
       "      <th>Dilution</th>\n",
       "      <th>Proline</th>\n",
       "    </tr>\n",
       "  </thead>\n",
       "  <tbody>\n",
       "  </tbody>\n",
       "</table>\n",
       "</div>"
      ],
      "text/plain": [
       "Empty DataFrame\n",
       "Columns: [Type, Alcohol, Malic, Ash, Alcalinity, Magnesium, Phenols, Flavanoids, Nonflavanoids, Proanthocyanins, Color, Hue, Dilution, Proline]\n",
       "Index: []"
      ]
     },
     "execution_count": 7,
     "metadata": {},
     "output_type": "execute_result"
    }
   ],
   "source": [
    "wine[wine.duplicated()]"
   ]
  },
  {
   "cell_type": "raw",
   "id": "93d9979b",
   "metadata": {},
   "source": [
    "No duplicated value in this dataset."
   ]
  },
  {
   "cell_type": "code",
   "execution_count": 8,
   "id": "23a0cea1",
   "metadata": {},
   "outputs": [
    {
     "data": {
      "text/html": [
       "<div>\n",
       "<style scoped>\n",
       "    .dataframe tbody tr th:only-of-type {\n",
       "        vertical-align: middle;\n",
       "    }\n",
       "\n",
       "    .dataframe tbody tr th {\n",
       "        vertical-align: top;\n",
       "    }\n",
       "\n",
       "    .dataframe thead th {\n",
       "        text-align: right;\n",
       "    }\n",
       "</style>\n",
       "<table border=\"1\" class=\"dataframe\">\n",
       "  <thead>\n",
       "    <tr style=\"text-align: right;\">\n",
       "      <th></th>\n",
       "      <th>Type</th>\n",
       "      <th>Alcohol</th>\n",
       "      <th>Malic</th>\n",
       "      <th>Ash</th>\n",
       "      <th>Alcalinity</th>\n",
       "      <th>Magnesium</th>\n",
       "      <th>Phenols</th>\n",
       "      <th>Flavanoids</th>\n",
       "      <th>Nonflavanoids</th>\n",
       "      <th>Proanthocyanins</th>\n",
       "      <th>Color</th>\n",
       "      <th>Hue</th>\n",
       "      <th>Dilution</th>\n",
       "      <th>Proline</th>\n",
       "    </tr>\n",
       "  </thead>\n",
       "  <tbody>\n",
       "    <tr>\n",
       "      <th>0</th>\n",
       "      <td>1</td>\n",
       "      <td>14.23</td>\n",
       "      <td>1.71</td>\n",
       "      <td>2.43</td>\n",
       "      <td>15.6</td>\n",
       "      <td>127</td>\n",
       "      <td>2.80</td>\n",
       "      <td>3.06</td>\n",
       "      <td>0.28</td>\n",
       "      <td>2.29</td>\n",
       "      <td>5.64</td>\n",
       "      <td>1.04</td>\n",
       "      <td>3.92</td>\n",
       "      <td>1065</td>\n",
       "    </tr>\n",
       "    <tr>\n",
       "      <th>1</th>\n",
       "      <td>1</td>\n",
       "      <td>13.20</td>\n",
       "      <td>1.78</td>\n",
       "      <td>2.14</td>\n",
       "      <td>11.2</td>\n",
       "      <td>100</td>\n",
       "      <td>2.65</td>\n",
       "      <td>2.76</td>\n",
       "      <td>0.26</td>\n",
       "      <td>1.28</td>\n",
       "      <td>4.38</td>\n",
       "      <td>1.05</td>\n",
       "      <td>3.40</td>\n",
       "      <td>1050</td>\n",
       "    </tr>\n",
       "    <tr>\n",
       "      <th>2</th>\n",
       "      <td>1</td>\n",
       "      <td>13.16</td>\n",
       "      <td>2.36</td>\n",
       "      <td>2.67</td>\n",
       "      <td>18.6</td>\n",
       "      <td>101</td>\n",
       "      <td>2.80</td>\n",
       "      <td>3.24</td>\n",
       "      <td>0.30</td>\n",
       "      <td>2.81</td>\n",
       "      <td>5.68</td>\n",
       "      <td>1.03</td>\n",
       "      <td>3.17</td>\n",
       "      <td>1185</td>\n",
       "    </tr>\n",
       "    <tr>\n",
       "      <th>3</th>\n",
       "      <td>1</td>\n",
       "      <td>14.37</td>\n",
       "      <td>1.95</td>\n",
       "      <td>2.50</td>\n",
       "      <td>16.8</td>\n",
       "      <td>113</td>\n",
       "      <td>3.85</td>\n",
       "      <td>3.49</td>\n",
       "      <td>0.24</td>\n",
       "      <td>2.18</td>\n",
       "      <td>7.80</td>\n",
       "      <td>0.86</td>\n",
       "      <td>3.45</td>\n",
       "      <td>1480</td>\n",
       "    </tr>\n",
       "    <tr>\n",
       "      <th>4</th>\n",
       "      <td>1</td>\n",
       "      <td>13.24</td>\n",
       "      <td>2.59</td>\n",
       "      <td>2.87</td>\n",
       "      <td>21.0</td>\n",
       "      <td>118</td>\n",
       "      <td>2.80</td>\n",
       "      <td>2.69</td>\n",
       "      <td>0.39</td>\n",
       "      <td>1.82</td>\n",
       "      <td>4.32</td>\n",
       "      <td>1.04</td>\n",
       "      <td>2.93</td>\n",
       "      <td>735</td>\n",
       "    </tr>\n",
       "  </tbody>\n",
       "</table>\n",
       "</div>"
      ],
      "text/plain": [
       "   Type  Alcohol  Malic   Ash  Alcalinity  Magnesium  Phenols  Flavanoids  \\\n",
       "0     1    14.23   1.71  2.43        15.6        127     2.80        3.06   \n",
       "1     1    13.20   1.78  2.14        11.2        100     2.65        2.76   \n",
       "2     1    13.16   2.36  2.67        18.6        101     2.80        3.24   \n",
       "3     1    14.37   1.95  2.50        16.8        113     3.85        3.49   \n",
       "4     1    13.24   2.59  2.87        21.0        118     2.80        2.69   \n",
       "\n",
       "   Nonflavanoids  Proanthocyanins  Color   Hue  Dilution  Proline  \n",
       "0           0.28             2.29   5.64  1.04      3.92     1065  \n",
       "1           0.26             1.28   4.38  1.05      3.40     1050  \n",
       "2           0.30             2.81   5.68  1.03      3.17     1185  \n",
       "3           0.24             2.18   7.80  0.86      3.45     1480  \n",
       "4           0.39             1.82   4.32  1.04      2.93      735  "
      ]
     },
     "execution_count": 8,
     "metadata": {},
     "output_type": "execute_result"
    }
   ],
   "source": [
    "wine.head()"
   ]
  },
  {
   "cell_type": "code",
   "execution_count": 9,
   "id": "8cb8cdc8",
   "metadata": {},
   "outputs": [],
   "source": [
    "wine_df=wine.drop(['Type'],axis=1)"
   ]
  },
  {
   "cell_type": "code",
   "execution_count": 10,
   "id": "81e24b35",
   "metadata": {},
   "outputs": [
    {
     "data": {
      "text/html": [
       "<div>\n",
       "<style scoped>\n",
       "    .dataframe tbody tr th:only-of-type {\n",
       "        vertical-align: middle;\n",
       "    }\n",
       "\n",
       "    .dataframe tbody tr th {\n",
       "        vertical-align: top;\n",
       "    }\n",
       "\n",
       "    .dataframe thead th {\n",
       "        text-align: right;\n",
       "    }\n",
       "</style>\n",
       "<table border=\"1\" class=\"dataframe\">\n",
       "  <thead>\n",
       "    <tr style=\"text-align: right;\">\n",
       "      <th></th>\n",
       "      <th>Alcohol</th>\n",
       "      <th>Malic</th>\n",
       "      <th>Ash</th>\n",
       "      <th>Alcalinity</th>\n",
       "      <th>Magnesium</th>\n",
       "      <th>Phenols</th>\n",
       "      <th>Flavanoids</th>\n",
       "      <th>Nonflavanoids</th>\n",
       "      <th>Proanthocyanins</th>\n",
       "      <th>Color</th>\n",
       "      <th>Hue</th>\n",
       "      <th>Dilution</th>\n",
       "      <th>Proline</th>\n",
       "    </tr>\n",
       "  </thead>\n",
       "  <tbody>\n",
       "    <tr>\n",
       "      <th>0</th>\n",
       "      <td>14.23</td>\n",
       "      <td>1.71</td>\n",
       "      <td>2.43</td>\n",
       "      <td>15.6</td>\n",
       "      <td>127</td>\n",
       "      <td>2.80</td>\n",
       "      <td>3.06</td>\n",
       "      <td>0.28</td>\n",
       "      <td>2.29</td>\n",
       "      <td>5.64</td>\n",
       "      <td>1.04</td>\n",
       "      <td>3.92</td>\n",
       "      <td>1065</td>\n",
       "    </tr>\n",
       "    <tr>\n",
       "      <th>1</th>\n",
       "      <td>13.20</td>\n",
       "      <td>1.78</td>\n",
       "      <td>2.14</td>\n",
       "      <td>11.2</td>\n",
       "      <td>100</td>\n",
       "      <td>2.65</td>\n",
       "      <td>2.76</td>\n",
       "      <td>0.26</td>\n",
       "      <td>1.28</td>\n",
       "      <td>4.38</td>\n",
       "      <td>1.05</td>\n",
       "      <td>3.40</td>\n",
       "      <td>1050</td>\n",
       "    </tr>\n",
       "    <tr>\n",
       "      <th>2</th>\n",
       "      <td>13.16</td>\n",
       "      <td>2.36</td>\n",
       "      <td>2.67</td>\n",
       "      <td>18.6</td>\n",
       "      <td>101</td>\n",
       "      <td>2.80</td>\n",
       "      <td>3.24</td>\n",
       "      <td>0.30</td>\n",
       "      <td>2.81</td>\n",
       "      <td>5.68</td>\n",
       "      <td>1.03</td>\n",
       "      <td>3.17</td>\n",
       "      <td>1185</td>\n",
       "    </tr>\n",
       "    <tr>\n",
       "      <th>3</th>\n",
       "      <td>14.37</td>\n",
       "      <td>1.95</td>\n",
       "      <td>2.50</td>\n",
       "      <td>16.8</td>\n",
       "      <td>113</td>\n",
       "      <td>3.85</td>\n",
       "      <td>3.49</td>\n",
       "      <td>0.24</td>\n",
       "      <td>2.18</td>\n",
       "      <td>7.80</td>\n",
       "      <td>0.86</td>\n",
       "      <td>3.45</td>\n",
       "      <td>1480</td>\n",
       "    </tr>\n",
       "    <tr>\n",
       "      <th>4</th>\n",
       "      <td>13.24</td>\n",
       "      <td>2.59</td>\n",
       "      <td>2.87</td>\n",
       "      <td>21.0</td>\n",
       "      <td>118</td>\n",
       "      <td>2.80</td>\n",
       "      <td>2.69</td>\n",
       "      <td>0.39</td>\n",
       "      <td>1.82</td>\n",
       "      <td>4.32</td>\n",
       "      <td>1.04</td>\n",
       "      <td>2.93</td>\n",
       "      <td>735</td>\n",
       "    </tr>\n",
       "    <tr>\n",
       "      <th>...</th>\n",
       "      <td>...</td>\n",
       "      <td>...</td>\n",
       "      <td>...</td>\n",
       "      <td>...</td>\n",
       "      <td>...</td>\n",
       "      <td>...</td>\n",
       "      <td>...</td>\n",
       "      <td>...</td>\n",
       "      <td>...</td>\n",
       "      <td>...</td>\n",
       "      <td>...</td>\n",
       "      <td>...</td>\n",
       "      <td>...</td>\n",
       "    </tr>\n",
       "    <tr>\n",
       "      <th>173</th>\n",
       "      <td>13.71</td>\n",
       "      <td>5.65</td>\n",
       "      <td>2.45</td>\n",
       "      <td>20.5</td>\n",
       "      <td>95</td>\n",
       "      <td>1.68</td>\n",
       "      <td>0.61</td>\n",
       "      <td>0.52</td>\n",
       "      <td>1.06</td>\n",
       "      <td>7.70</td>\n",
       "      <td>0.64</td>\n",
       "      <td>1.74</td>\n",
       "      <td>740</td>\n",
       "    </tr>\n",
       "    <tr>\n",
       "      <th>174</th>\n",
       "      <td>13.40</td>\n",
       "      <td>3.91</td>\n",
       "      <td>2.48</td>\n",
       "      <td>23.0</td>\n",
       "      <td>102</td>\n",
       "      <td>1.80</td>\n",
       "      <td>0.75</td>\n",
       "      <td>0.43</td>\n",
       "      <td>1.41</td>\n",
       "      <td>7.30</td>\n",
       "      <td>0.70</td>\n",
       "      <td>1.56</td>\n",
       "      <td>750</td>\n",
       "    </tr>\n",
       "    <tr>\n",
       "      <th>175</th>\n",
       "      <td>13.27</td>\n",
       "      <td>4.28</td>\n",
       "      <td>2.26</td>\n",
       "      <td>20.0</td>\n",
       "      <td>120</td>\n",
       "      <td>1.59</td>\n",
       "      <td>0.69</td>\n",
       "      <td>0.43</td>\n",
       "      <td>1.35</td>\n",
       "      <td>10.20</td>\n",
       "      <td>0.59</td>\n",
       "      <td>1.56</td>\n",
       "      <td>835</td>\n",
       "    </tr>\n",
       "    <tr>\n",
       "      <th>176</th>\n",
       "      <td>13.17</td>\n",
       "      <td>2.59</td>\n",
       "      <td>2.37</td>\n",
       "      <td>20.0</td>\n",
       "      <td>120</td>\n",
       "      <td>1.65</td>\n",
       "      <td>0.68</td>\n",
       "      <td>0.53</td>\n",
       "      <td>1.46</td>\n",
       "      <td>9.30</td>\n",
       "      <td>0.60</td>\n",
       "      <td>1.62</td>\n",
       "      <td>840</td>\n",
       "    </tr>\n",
       "    <tr>\n",
       "      <th>177</th>\n",
       "      <td>14.13</td>\n",
       "      <td>4.10</td>\n",
       "      <td>2.74</td>\n",
       "      <td>24.5</td>\n",
       "      <td>96</td>\n",
       "      <td>2.05</td>\n",
       "      <td>0.76</td>\n",
       "      <td>0.56</td>\n",
       "      <td>1.35</td>\n",
       "      <td>9.20</td>\n",
       "      <td>0.61</td>\n",
       "      <td>1.60</td>\n",
       "      <td>560</td>\n",
       "    </tr>\n",
       "  </tbody>\n",
       "</table>\n",
       "<p>178 rows × 13 columns</p>\n",
       "</div>"
      ],
      "text/plain": [
       "     Alcohol  Malic   Ash  Alcalinity  Magnesium  Phenols  Flavanoids  \\\n",
       "0      14.23   1.71  2.43        15.6        127     2.80        3.06   \n",
       "1      13.20   1.78  2.14        11.2        100     2.65        2.76   \n",
       "2      13.16   2.36  2.67        18.6        101     2.80        3.24   \n",
       "3      14.37   1.95  2.50        16.8        113     3.85        3.49   \n",
       "4      13.24   2.59  2.87        21.0        118     2.80        2.69   \n",
       "..       ...    ...   ...         ...        ...      ...         ...   \n",
       "173    13.71   5.65  2.45        20.5         95     1.68        0.61   \n",
       "174    13.40   3.91  2.48        23.0        102     1.80        0.75   \n",
       "175    13.27   4.28  2.26        20.0        120     1.59        0.69   \n",
       "176    13.17   2.59  2.37        20.0        120     1.65        0.68   \n",
       "177    14.13   4.10  2.74        24.5         96     2.05        0.76   \n",
       "\n",
       "     Nonflavanoids  Proanthocyanins  Color   Hue  Dilution  Proline  \n",
       "0             0.28             2.29   5.64  1.04      3.92     1065  \n",
       "1             0.26             1.28   4.38  1.05      3.40     1050  \n",
       "2             0.30             2.81   5.68  1.03      3.17     1185  \n",
       "3             0.24             2.18   7.80  0.86      3.45     1480  \n",
       "4             0.39             1.82   4.32  1.04      2.93      735  \n",
       "..             ...              ...    ...   ...       ...      ...  \n",
       "173           0.52             1.06   7.70  0.64      1.74      740  \n",
       "174           0.43             1.41   7.30  0.70      1.56      750  \n",
       "175           0.43             1.35  10.20  0.59      1.56      835  \n",
       "176           0.53             1.46   9.30  0.60      1.62      840  \n",
       "177           0.56             1.35   9.20  0.61      1.60      560  \n",
       "\n",
       "[178 rows x 13 columns]"
      ]
     },
     "execution_count": 10,
     "metadata": {},
     "output_type": "execute_result"
    }
   ],
   "source": [
    "wine_df"
   ]
  },
  {
   "cell_type": "markdown",
   "id": "826b3f72",
   "metadata": {},
   "source": [
    "# Feature Scalling"
   ]
  },
  {
   "cell_type": "code",
   "execution_count": 11,
   "id": "acff905e",
   "metadata": {},
   "outputs": [
    {
     "data": {
      "text/plain": [
       "(178, 14)"
      ]
     },
     "execution_count": 11,
     "metadata": {},
     "output_type": "execute_result"
    }
   ],
   "source": [
    "wine.shape"
   ]
  },
  {
   "cell_type": "code",
   "execution_count": 12,
   "id": "27c95798",
   "metadata": {},
   "outputs": [],
   "source": [
    "X = wine.values"
   ]
  },
  {
   "cell_type": "code",
   "execution_count": 13,
   "id": "3f9b0845",
   "metadata": {},
   "outputs": [
    {
     "data": {
      "text/plain": [
       "array([[1.000e+00, 1.423e+01, 1.710e+00, ..., 1.040e+00, 3.920e+00,\n",
       "        1.065e+03],\n",
       "       [1.000e+00, 1.320e+01, 1.780e+00, ..., 1.050e+00, 3.400e+00,\n",
       "        1.050e+03],\n",
       "       [1.000e+00, 1.316e+01, 2.360e+00, ..., 1.030e+00, 3.170e+00,\n",
       "        1.185e+03],\n",
       "       ...,\n",
       "       [3.000e+00, 1.327e+01, 4.280e+00, ..., 5.900e-01, 1.560e+00,\n",
       "        8.350e+02],\n",
       "       [3.000e+00, 1.317e+01, 2.590e+00, ..., 6.000e-01, 1.620e+00,\n",
       "        8.400e+02],\n",
       "       [3.000e+00, 1.413e+01, 4.100e+00, ..., 6.100e-01, 1.600e+00,\n",
       "        5.600e+02]])"
      ]
     },
     "execution_count": 13,
     "metadata": {},
     "output_type": "execute_result"
    }
   ],
   "source": [
    "X"
   ]
  },
  {
   "cell_type": "code",
   "execution_count": 14,
   "id": "4909578f",
   "metadata": {},
   "outputs": [],
   "source": [
    "from sklearn.preprocessing import StandardScaler"
   ]
  },
  {
   "cell_type": "code",
   "execution_count": 15,
   "id": "a7df0338",
   "metadata": {},
   "outputs": [],
   "source": [
    "sc = StandardScaler()\n",
    "x = sc.fit_transform(X)"
   ]
  },
  {
   "cell_type": "code",
   "execution_count": 16,
   "id": "38db9104",
   "metadata": {},
   "outputs": [
    {
     "data": {
      "text/plain": [
       "(14, 178)"
      ]
     },
     "execution_count": 16,
     "metadata": {},
     "output_type": "execute_result"
    }
   ],
   "source": [
    "x.T.shape"
   ]
  },
  {
   "cell_type": "code",
   "execution_count": 17,
   "id": "75f92a16",
   "metadata": {},
   "outputs": [
    {
     "data": {
      "text/plain": [
       "array([[ 1.00564972, -0.3300763 ,  0.44024952, -0.04992369,  0.52078487,\n",
       "        -0.21036119, -0.72322641, -0.85228566,  0.49187249, -0.50194977,\n",
       "         0.26716852, -0.62085717, -0.79268286, -0.63729711],\n",
       "       [-0.3300763 ,  1.00564972,  0.09493026,  0.21273976, -0.31198788,\n",
       "         0.27232816,  0.29073446,  0.23815287, -0.15681042,  0.13747022,\n",
       "         0.549451  , -0.07215255,  0.07275191,  0.64735687],\n",
       "       [ 0.44024952,  0.09493026,  1.00564972,  0.16497228,  0.29013035,\n",
       "        -0.05488343, -0.3370606 , -0.41332866,  0.29463237, -0.22199334,\n",
       "         0.25039204, -0.56446685, -0.37079354, -0.19309537],\n",
       "       [-0.04992369,  0.21273976,  0.16497228,  1.00564972,  0.44587209,\n",
       "         0.28820583,  0.12970824,  0.11572743,  0.1872826 ,  0.00970647,\n",
       "         0.2603499 , -0.07508874,  0.00393333,  0.22488969],\n",
       "       [ 0.52078487, -0.31198788,  0.29013035,  0.44587209,  1.00564972,\n",
       "        -0.0838039 , -0.32292752, -0.353355  ,  0.36396647, -0.19844168,\n",
       "         0.01883781, -0.27550299, -0.27833221, -0.44308618],\n",
       "       [-0.21036119,  0.27232816, -0.05488343,  0.28820583, -0.0838039 ,\n",
       "         1.00564972,  0.21561254,  0.19688989, -0.25774204,  0.23777643,\n",
       "         0.20107967,  0.05571118,  0.06637684,  0.39557317],\n",
       "       [-0.72322641,  0.29073446, -0.3370606 ,  0.12970824, -0.32292752,\n",
       "         0.21561254,  1.00564972,  0.86944804, -0.45247731,  0.61587304,\n",
       "        -0.05544792,  0.43613151,  0.70390388,  0.50092909],\n",
       "       [-0.85228566,  0.23815287, -0.41332866,  0.11572743, -0.353355  ,\n",
       "         0.19688989,  0.86944804,  1.00564972, -0.54093859,  0.65637929,\n",
       "        -0.17335329,  0.54654907,  0.79164133,  0.49698518],\n",
       "       [ 0.49187249, -0.15681042,  0.29463237,  0.1872826 ,  0.36396647,\n",
       "        -0.25774204, -0.45247731, -0.54093859,  1.00564972, -0.36791202,\n",
       "         0.13984265, -0.26412347, -0.50611293, -0.31314443],\n",
       "       [-0.50194977,  0.13747022, -0.22199334,  0.00970647, -0.19844168,\n",
       "         0.23777643,  0.61587304,  0.65637929, -0.36791202,  1.00564972,\n",
       "        -0.02539259,  0.29721399,  0.52199968,  0.33228346],\n",
       "       [ 0.26716852,  0.549451  ,  0.25039204,  0.2603499 ,  0.01883781,\n",
       "         0.20107967, -0.05544792, -0.17335329,  0.13984265, -0.02539259,\n",
       "         1.00564972, -0.52476129, -0.43123763,  0.31788599],\n",
       "       [-0.62085717, -0.07215255, -0.56446685, -0.07508874, -0.27550299,\n",
       "         0.05571118,  0.43613151,  0.54654907, -0.26412347,  0.29721399,\n",
       "        -0.52476129,  1.00564972,  0.56866303,  0.23751782],\n",
       "       [-0.79268286,  0.07275191, -0.37079354,  0.00393333, -0.27833221,\n",
       "         0.06637684,  0.70390388,  0.79164133, -0.50611293,  0.52199968,\n",
       "        -0.43123763,  0.56866303,  1.00564972,  0.31452809],\n",
       "       [-0.63729711,  0.64735687, -0.19309537,  0.22488969, -0.44308618,\n",
       "         0.39557317,  0.50092909,  0.49698518, -0.31314443,  0.33228346,\n",
       "         0.31788599,  0.23751782,  0.31452809,  1.00564972]])"
      ]
     },
     "execution_count": 17,
     "metadata": {},
     "output_type": "execute_result"
    }
   ],
   "source": [
    "cov_m = np.cov(x.T)\n",
    "cov_m"
   ]
  },
  {
   "cell_type": "code",
   "execution_count": 18,
   "id": "4e548cf2",
   "metadata": {},
   "outputs": [
    {
     "data": {
      "text/plain": [
       "(14, 14)"
      ]
     },
     "execution_count": 18,
     "metadata": {},
     "output_type": "execute_result"
    }
   ],
   "source": [
    "cov_m.shape"
   ]
  },
  {
   "cell_type": "code",
   "execution_count": 19,
   "id": "355dc929",
   "metadata": {},
   "outputs": [],
   "source": [
    "eigenvalues,eigenvectors = np.linalg.eig(cov_m)"
   ]
  },
  {
   "cell_type": "code",
   "execution_count": 20,
   "id": "14e3feb0",
   "metadata": {},
   "outputs": [
    {
     "data": {
      "text/plain": [
       "array([5.56722458, 2.51118402, 1.45424413, 0.9331603 , 0.88246016,\n",
       "       0.67657935, 0.55692777, 0.05813894, 0.13029618, 0.35201176,\n",
       "       0.16975037, 0.29620602, 0.26378805, 0.2271244 ])"
      ]
     },
     "execution_count": 20,
     "metadata": {},
     "output_type": "execute_result"
    }
   ],
   "source": [
    "eigenvalues"
   ]
  },
  {
   "cell_type": "code",
   "execution_count": 21,
   "id": "e0b9aa96",
   "metadata": {},
   "outputs": [
    {
     "data": {
      "text/plain": [
       "(14,)"
      ]
     },
     "execution_count": 21,
     "metadata": {},
     "output_type": "execute_result"
    }
   ],
   "source": [
    "eigenvalues.shape"
   ]
  },
  {
   "cell_type": "code",
   "execution_count": 22,
   "id": "054f0913",
   "metadata": {},
   "outputs": [],
   "source": [
    "eigenvectors = eigenvectors.T"
   ]
  },
  {
   "cell_type": "code",
   "execution_count": 23,
   "id": "a58ec8d1",
   "metadata": {},
   "outputs": [
    {
     "data": {
      "text/plain": [
       "array([-0.39366953,  0.13632501, -0.22267638,  0.00225793, -0.22429849,\n",
       "        0.12463016,  0.35926404,  0.39071171, -0.2670012 ,  0.2790625 ,\n",
       "       -0.08931829,  0.27682265,  0.35052618,  0.26951525])"
      ]
     },
     "execution_count": 23,
     "metadata": {},
     "output_type": "execute_result"
    }
   ],
   "source": [
    "eigenvectors[0,:]"
   ]
  },
  {
   "cell_type": "code",
   "execution_count": 24,
   "id": "c67819d1",
   "metadata": {},
   "outputs": [
    {
     "data": {
      "text/plain": [
       "array([0.39542486, 0.57378745, 0.67707846, 0.74335831, 0.80603706,\n",
       "       0.85409266, 0.89364973, 0.89777918, 0.90703376, 0.9320362 ,\n",
       "       0.94409311, 0.96513182, 0.98386797, 1.        ])"
      ]
     },
     "execution_count": 24,
     "metadata": {},
     "output_type": "execute_result"
    }
   ],
   "source": [
    "eigenvalues = np.cumsum(eigenvalues)\n",
    "eigenvalues /=eigenvalues.max()\n",
    "eigenvalues"
   ]
  },
  {
   "cell_type": "code",
   "execution_count": 25,
   "id": "76dbc7f9",
   "metadata": {},
   "outputs": [
    {
     "data": {
      "text/plain": [
       "(10, 14)"
      ]
     },
     "execution_count": 25,
     "metadata": {},
     "output_type": "execute_result"
    }
   ],
   "source": [
    "p = eigenvectors[0:10,:]\n",
    "p.shape"
   ]
  },
  {
   "cell_type": "code",
   "execution_count": 26,
   "id": "4221d0bd",
   "metadata": {},
   "outputs": [
    {
     "data": {
      "text/plain": [
       "(10, 178)"
      ]
     },
     "execution_count": 26,
     "metadata": {},
     "output_type": "execute_result"
    }
   ],
   "source": [
    "data_new = np.dot(p,x.T)\n",
    "data_new.shape"
   ]
  },
  {
   "cell_type": "code",
   "execution_count": 27,
   "id": "be7432fe",
   "metadata": {},
   "outputs": [
    {
     "data": {
      "text/plain": [
       "(178, 10)"
      ]
     },
     "execution_count": 27,
     "metadata": {},
     "output_type": "execute_result"
    }
   ],
   "source": [
    "data_new = data_new.T\n",
    "data_new.shape"
   ]
  },
  {
   "cell_type": "code",
   "execution_count": 28,
   "id": "3be40791",
   "metadata": {},
   "outputs": [
    {
     "data": {
      "text/html": [
       "<div>\n",
       "<style scoped>\n",
       "    .dataframe tbody tr th:only-of-type {\n",
       "        vertical-align: middle;\n",
       "    }\n",
       "\n",
       "    .dataframe tbody tr th {\n",
       "        vertical-align: top;\n",
       "    }\n",
       "\n",
       "    .dataframe thead th {\n",
       "        text-align: right;\n",
       "    }\n",
       "</style>\n",
       "<table border=\"1\" class=\"dataframe\">\n",
       "  <thead>\n",
       "    <tr style=\"text-align: right;\">\n",
       "      <th></th>\n",
       "      <th>PC1</th>\n",
       "      <th>PC2</th>\n",
       "      <th>PC3</th>\n",
       "      <th>PC4</th>\n",
       "      <th>PC5</th>\n",
       "      <th>PC6</th>\n",
       "      <th>PC7</th>\n",
       "      <th>PC8</th>\n",
       "      <th>PC9</th>\n",
       "      <th>PC10</th>\n",
       "    </tr>\n",
       "  </thead>\n",
       "  <tbody>\n",
       "    <tr>\n",
       "      <th>0</th>\n",
       "      <td>3.522934</td>\n",
       "      <td>-1.453098</td>\n",
       "      <td>0.164795</td>\n",
       "      <td>0.013273</td>\n",
       "      <td>-0.737345</td>\n",
       "      <td>-0.300716</td>\n",
       "      <td>-0.573876</td>\n",
       "      <td>-0.200857</td>\n",
       "      <td>0.302978</td>\n",
       "      <td>-0.055637</td>\n",
       "    </tr>\n",
       "    <tr>\n",
       "      <th>1</th>\n",
       "      <td>2.528858</td>\n",
       "      <td>0.330019</td>\n",
       "      <td>2.026707</td>\n",
       "      <td>0.417144</td>\n",
       "      <td>0.283214</td>\n",
       "      <td>-0.884309</td>\n",
       "      <td>0.029716</td>\n",
       "      <td>-0.126402</td>\n",
       "      <td>0.146645</td>\n",
       "      <td>-1.010372</td>\n",
       "    </tr>\n",
       "    <tr>\n",
       "      <th>2</th>\n",
       "      <td>2.785029</td>\n",
       "      <td>-1.036936</td>\n",
       "      <td>-0.983238</td>\n",
       "      <td>-0.664232</td>\n",
       "      <td>0.387565</td>\n",
       "      <td>0.468842</td>\n",
       "      <td>-0.488305</td>\n",
       "      <td>0.055752</td>\n",
       "      <td>-0.021278</td>\n",
       "      <td>0.268957</td>\n",
       "    </tr>\n",
       "    <tr>\n",
       "      <th>3</th>\n",
       "      <td>3.922588</td>\n",
       "      <td>-2.768210</td>\n",
       "      <td>0.174968</td>\n",
       "      <td>-0.565088</td>\n",
       "      <td>0.324360</td>\n",
       "      <td>0.262616</td>\n",
       "      <td>0.398364</td>\n",
       "      <td>-0.019903</td>\n",
       "      <td>0.501277</td>\n",
       "      <td>-0.618844</td>\n",
       "    </tr>\n",
       "    <tr>\n",
       "      <th>4</th>\n",
       "      <td>1.407511</td>\n",
       "      <td>-0.867773</td>\n",
       "      <td>-2.025829</td>\n",
       "      <td>0.440906</td>\n",
       "      <td>-0.227949</td>\n",
       "      <td>-0.593762</td>\n",
       "      <td>-0.447876</td>\n",
       "      <td>0.517498</td>\n",
       "      <td>-0.274109</td>\n",
       "      <td>-0.434937</td>\n",
       "    </tr>\n",
       "  </tbody>\n",
       "</table>\n",
       "</div>"
      ],
      "text/plain": [
       "        PC1       PC2       PC3       PC4       PC5       PC6       PC7  \\\n",
       "0  3.522934 -1.453098  0.164795  0.013273 -0.737345 -0.300716 -0.573876   \n",
       "1  2.528858  0.330019  2.026707  0.417144  0.283214 -0.884309  0.029716   \n",
       "2  2.785029 -1.036936 -0.983238 -0.664232  0.387565  0.468842 -0.488305   \n",
       "3  3.922588 -2.768210  0.174968 -0.565088  0.324360  0.262616  0.398364   \n",
       "4  1.407511 -0.867773 -2.025829  0.440906 -0.227949 -0.593762 -0.447876   \n",
       "\n",
       "        PC8       PC9      PC10  \n",
       "0 -0.200857  0.302978 -0.055637  \n",
       "1 -0.126402  0.146645 -1.010372  \n",
       "2  0.055752 -0.021278  0.268957  \n",
       "3 -0.019903  0.501277 -0.618844  \n",
       "4  0.517498 -0.274109 -0.434937  "
      ]
     },
     "execution_count": 28,
     "metadata": {},
     "output_type": "execute_result"
    }
   ],
   "source": [
    "df_new = pd.DataFrame(data_new,columns=[\"PC1\",\"PC2\",\"PC3\",\n",
    "                                       \"PC4\",\"PC5\",\"PC6\",\"PC7\",\n",
    "                                       \"PC8\",\"PC9\",\"PC10\"])\n",
    "\n",
    "df_new.head()"
   ]
  },
  {
   "cell_type": "code",
   "execution_count": 29,
   "id": "659a40af",
   "metadata": {},
   "outputs": [
    {
     "name": "stdout",
     "output_type": "stream",
     "text": [
      "Transformed data: (178, 10)\n",
      "Orginal data:  (178, 14)\n"
     ]
    }
   ],
   "source": [
    "print(\"Transformed data:\",df_new.shape)\n",
    "print(\"Orginal data: \",wine.shape)"
   ]
  },
  {
   "cell_type": "code",
   "execution_count": 30,
   "id": "f8790425",
   "metadata": {},
   "outputs": [
    {
     "data": {
      "image/png": "[encoded data removed]",
      "text/plain": [
       "<Figure size 720x504 with 1 Axes>"
      ]
     },
     "metadata": {
      "needs_background": "light"
     },
     "output_type": "display_data"
    }
   ],
   "source": [
    "plt.figure(figsize=(10,7))\n",
    "\n",
    "plt.plot(data_new)\n",
    "plt.grid()\n",
    "plt.xlabel(\"Obeservation\")\n",
    "plt.ylabel(\"Transformed Data\")\n",
    "plt.title(\"Transformed Data by the priciple componentes (95.15% variablity)\",pad=15)\n",
    "plt.savefig(\"plot_manula.png\")\n",
    "plt.show()"
   ]
  },
  {
   "cell_type": "code",
   "execution_count": 31,
   "id": "07ff8127",
   "metadata": {},
   "outputs": [],
   "source": [
    "from sklearn.decomposition import PCA"
   ]
  },
  {
   "cell_type": "code",
   "execution_count": 32,
   "id": "a746ecc1",
   "metadata": {},
   "outputs": [],
   "source": [
    "pca = PCA(n_components=2)\n",
    "pca_values = pca.fit_transform(x)"
   ]
  },
  {
   "cell_type": "code",
   "execution_count": 33,
   "id": "2e05827f",
   "metadata": {},
   "outputs": [
    {
     "data": {
      "text/plain": [
       "array([[-3.5229339 , -1.45309844],\n",
       "       [-2.52885806,  0.33001925],\n",
       "       [-2.78502898, -1.03693595],\n",
       "       [-3.92258841, -2.76821026],\n",
       "       [-1.40751111, -0.86777309],\n",
       "       [-3.28812981, -2.13017513],\n",
       "       [-2.75057754, -1.17916999],\n",
       "       [-2.39286652, -1.61128232],\n",
       "       [-2.79525633, -0.92317952],\n",
       "       [-3.00559666, -0.79628417],\n",
       "       [-3.67868855, -1.31252342],\n",
       "       [-2.10963477, -0.61298199],\n",
       "       [-2.43845636, -0.67852331],\n",
       "       [-3.67349453, -1.14012136],\n",
       "       [-4.44157575, -2.11031917],\n",
       "       [-2.60892387, -1.66641801],\n",
       "       [-2.47542846, -2.33089672],\n",
       "       [-2.22623243, -1.63359016],\n",
       "       [-3.74226929, -2.52840527],\n",
       "       [-2.3944115 , -1.06452946],\n",
       "       [-3.33656895, -0.79601279],\n",
       "       [-1.48140399, -0.24008547],\n",
       "       [-2.82806867,  0.08685755],\n",
       "       [-2.00771405,  0.51561649],\n",
       "       [-2.11463604,  0.31592057],\n",
       "       [-1.39753751, -0.93821529],\n",
       "       [-2.13348803, -0.68710205],\n",
       "       [-1.62970383,  0.09118403],\n",
       "       [-2.50760753, -0.69274983],\n",
       "       [-2.55948318, -0.1954729 ],\n",
       "       [-2.77244452, -1.24635279],\n",
       "       [-2.93513374, -1.47827883],\n",
       "       [-1.99124842, -0.05325201],\n",
       "       [-2.24570987, -1.6346691 ],\n",
       "       [-1.78698628, -0.69748039],\n",
       "       [-2.22763867, -0.17928892],\n",
       "       [-1.76802847, -0.65787231],\n",
       "       [-1.52317798, -0.11222505],\n",
       "       [-1.87236494,  0.76930576],\n",
       "       [-2.79711434, -1.80880887],\n",
       "       [-2.84093569, -0.78616157],\n",
       "       [-1.1055721 , -0.16588492],\n",
       "       [-3.30689482, -1.16395547],\n",
       "       [-0.90479842, -0.32607243],\n",
       "       [-2.39683569,  0.06690594],\n",
       "       [-1.53781235, -1.77507765],\n",
       "       [-2.99121644, -1.19762255],\n",
       "       [-3.05931631, -0.65382196],\n",
       "       [-2.31877146, -1.25023668],\n",
       "       [-2.95947229, -1.75860365],\n",
       "       [-3.4121813 , -0.17691581],\n",
       "       [-3.11637827, -0.75210873],\n",
       "       [-3.70021113, -1.62309187],\n",
       "       [-2.53754828, -1.87852793],\n",
       "       [-2.44478924, -1.02071516],\n",
       "       [-2.72281451, -1.33524369],\n",
       "       [-2.98531677, -1.44363759],\n",
       "       [-2.4881469 , -1.2154925 ],\n",
       "       [-3.35128665, -1.74060283],\n",
       "       [ 0.87492504,  3.07772383],\n",
       "       [ 1.41466076,  1.3899542 ],\n",
       "       [ 1.71387916,  0.83885608],\n",
       "       [-0.01229686,  1.26269589],\n",
       "       [-1.83310122,  1.91338608],\n",
       "       [ 0.57453595,  1.91115097],\n",
       "       [-0.79147116,  0.75872552],\n",
       "       [-2.02003148,  1.87213142],\n",
       "       [-0.14328098,  2.42575691],\n",
       "       [ 0.75150766,  0.22520902],\n",
       "       [-1.74032573,  1.39100815],\n",
       "       [ 1.47630041,  0.89224859],\n",
       "       [-1.49197779,  0.94792708],\n",
       "       [ 0.69396686,  1.06686332],\n",
       "       [-2.29945716, -0.27435851],\n",
       "       [-1.63413138,  1.2773898 ],\n",
       "       [ 0.82899932,  2.44770579],\n",
       "       [-0.30043175,  2.15106456],\n",
       "       [ 1.3611782 ,  1.39034627],\n",
       "       [-1.09604852,  0.76264282],\n",
       "       [-0.31921974,  1.02477043],\n",
       "       [-0.67125757,  3.37052496],\n",
       "       [-0.92411091,  1.44510662],\n",
       "       [ 0.46749204,  2.38376557],\n",
       "       [ 2.35241675,  0.10013996],\n",
       "       [-0.71822325,  1.46811394],\n",
       "       [-0.69829604,  2.02223417],\n",
       "       [ 0.76457439,  2.23750414],\n",
       "       [ 0.52824923,  2.37569723],\n",
       "       [ 1.03785507,  1.80786799],\n",
       "       [ 0.52142425,  2.66038386],\n",
       "       [ 1.25335859,  2.12475639],\n",
       "       [ 1.46070926,  1.8596994 ],\n",
       "       [ 1.79124629,  1.56916323],\n",
       "       [-0.65330428,  2.30839297],\n",
       "       [-0.8361451 ,  2.21754888],\n",
       "       [-2.26060732, -0.18428637],\n",
       "       [ 0.55547283,  0.37012733],\n",
       "       [-0.9149965 ,  2.55963934],\n",
       "       [-2.02098347,  1.42022041],\n",
       "       [-1.26542677,  2.15848251],\n",
       "       [-0.70143229,  2.37221592],\n",
       "       [ 0.53086979,  2.29535505],\n",
       "       [ 0.17615672,  1.16479003],\n",
       "       [ 0.64274197,  2.68228953],\n",
       "       [-0.33770614,  2.09639668],\n",
       "       [ 1.63721155,  1.72636425],\n",
       "       [ 0.35877264,  2.17081862],\n",
       "       [ 1.51311874,  1.36335628],\n",
       "       [-0.03009626,  2.30450774],\n",
       "       [-1.40940236,  1.45311158],\n",
       "       [-1.21824444,  1.40819282],\n",
       "       [ 0.28831462,  1.93122641],\n",
       "       [ 1.19609762,  0.77044262],\n",
       "       [ 0.45161819,  2.27100706],\n",
       "       [ 0.47183886,  1.94138119],\n",
       "       [-0.42339909,  3.86899361],\n",
       "       [ 0.26437653,  2.82191608],\n",
       "       [ 0.13745847,  1.92845353],\n",
       "       [ 2.25047663,  1.26932529],\n",
       "       [ 0.53074498,  2.2244168 ],\n",
       "       [-0.64128735,  1.40431272],\n",
       "       [-1.18436691, -0.2609574 ],\n",
       "       [ 1.10694195,  0.669497  ],\n",
       "       [ 0.45864794,  0.61988848],\n",
       "       [-0.84610722,  1.4391088 ],\n",
       "       [ 0.11653672,  2.10990355],\n",
       "       [ 0.0070867 ,  1.26551112],\n",
       "       [ 1.49530863,  1.21567945],\n",
       "       [ 0.47860169,  1.94027835],\n",
       "       [ 1.66414462,  1.15919147],\n",
       "       [ 1.77894554, -0.17231476],\n",
       "       [ 2.74191892, -0.37085725],\n",
       "       [ 3.25429697, -0.25756346],\n",
       "       [ 2.53036635, -0.36598866],\n",
       "       [ 2.71302437,  0.46387414],\n",
       "       [ 3.34898858, -0.34556216],\n",
       "       [ 4.11716696, -0.14197308],\n",
       "       [ 4.14412844, -0.64721324],\n",
       "       [ 3.3659255 , -0.34041064],\n",
       "       [ 2.71267678, -0.28746438],\n",
       "       [ 3.07164523, -0.27980594],\n",
       "       [ 2.62614546, -0.36823287],\n",
       "       [ 3.26039672, -0.4810908 ],\n",
       "       [ 2.70404699, -0.47745985],\n",
       "       [ 2.59084775, -1.15749987],\n",
       "       [ 2.9540111 , -0.5578515 ],\n",
       "       [ 4.45995006, -0.63547901],\n",
       "       [ 3.82924957, -1.26232962],\n",
       "       [ 3.13365001, -1.56464614],\n",
       "       [ 3.2347141 , -2.03532443],\n",
       "       [ 2.71256472, -2.3538796 ],\n",
       "       [ 2.93094044, -2.04198353],\n",
       "       [ 2.25057425, -1.52795614],\n",
       "       [ 3.09752033, -2.13348176],\n",
       "       [ 3.07705567, -0.40479097],\n",
       "       [ 3.85615824, -1.79208943],\n",
       "       [ 3.20838842, -1.91882788],\n",
       "       [ 3.65849417, -1.30258082],\n",
       "       [ 1.55298183, -3.51909311],\n",
       "       [ 2.05828389, -2.4075461 ],\n",
       "       [ 3.43854934, -0.73054324],\n",
       "       [ 2.58448815, -1.17132839],\n",
       "       [ 3.14445722, -0.54903584],\n",
       "       [ 2.92529398, -0.69265684],\n",
       "       [ 3.26182677, -1.54859057],\n",
       "       [ 3.77758717, -0.87231155],\n",
       "       [ 2.77463925, -2.58870465],\n",
       "       [ 3.24261618, -1.26784789],\n",
       "       [ 2.56374375, -2.07490927],\n",
       "       [ 2.74872948, -2.58508204],\n",
       "       [ 3.4911962 ,  0.2594602 ],\n",
       "       [ 3.9291344 , -0.83738603],\n",
       "       [ 2.81529547, -2.18933614],\n",
       "       [ 3.6279962 , -2.20661701],\n",
       "       [ 2.94272922, -1.7522632 ],\n",
       "       [ 3.02727243, -2.75604024],\n",
       "       [ 2.75522166, -2.29378408],\n",
       "       [ 3.49633565, -2.76060799]])"
      ]
     },
     "execution_count": 33,
     "metadata": {},
     "output_type": "execute_result"
    }
   ],
   "source": [
    "pca_values"
   ]
  },
  {
   "cell_type": "code",
   "execution_count": 34,
   "id": "ed8408cc",
   "metadata": {},
   "outputs": [
    {
     "data": {
      "text/plain": [
       "array([0.39542486, 0.17836259])"
      ]
     },
     "execution_count": 34,
     "metadata": {},
     "output_type": "execute_result"
    }
   ],
   "source": [
    "var = pca.explained_variance_ratio_\n",
    "var"
   ]
  },
  {
   "cell_type": "code",
   "execution_count": 35,
   "id": "adc2a7bc",
   "metadata": {},
   "outputs": [
    {
     "data": {
      "text/plain": [
       "array([39.54, 57.38])"
      ]
     },
     "execution_count": 35,
     "metadata": {},
     "output_type": "execute_result"
    }
   ],
   "source": [
    "var1 = np.cumsum(np.round(var,decimals = 4)*100)\n",
    "var1"
   ]
  },
  {
   "cell_type": "code",
   "execution_count": 36,
   "id": "b10857e7",
   "metadata": {},
   "outputs": [
    {
     "data": {
      "text/plain": [
       "[<matplotlib.lines.Line2D at 0x1c89e82aa30>]"
      ]
     },
     "execution_count": 36,
     "metadata": {},
     "output_type": "execute_result"
    },
    {
     "data": {
      "image/png": "[encoded data removed]",
      "text/plain": [
       "<Figure size 432x288 with 1 Axes>"
      ]
     },
     "metadata": {
      "needs_background": "light"
     },
     "output_type": "display_data"
    }
   ],
   "source": [
    "plt.plot(var,color='green')"
   ]
  },
  {
   "cell_type": "code",
   "execution_count": 37,
   "id": "87984f24",
   "metadata": {},
   "outputs": [
    {
     "data": {
      "text/plain": [
       "Text(0.5, 0, 'No. of PC')"
      ]
     },
     "execution_count": 37,
     "metadata": {},
     "output_type": "execute_result"
    },
    {
     "data": {
      "image/png": "[encoded data removed]",
      "text/plain": [
       "<Figure size 432x288 with 1 Axes>"
      ]
     },
     "metadata": {
      "needs_background": "light"
     },
     "output_type": "display_data"
    }
   ],
   "source": [
    "# Variance plot for PCA components obtained \n",
    "plt.plot(var1,color=\"red\")\n",
    "plt.grid()\n",
    "plt.ylim(0,100)\n",
    "plt.xlabel(\"No. of PC\")"
   ]
  },
  {
   "cell_type": "code",
   "execution_count": 38,
   "id": "a47c2022",
   "metadata": {},
   "outputs": [
    {
     "data": {
      "text/plain": [
       "<matplotlib.collections.PathCollection at 0x1c89e8f7ca0>"
      ]
     },
     "execution_count": 38,
     "metadata": {},
     "output_type": "execute_result"
    },
    {
     "data": {
      "image/png": "[encoded data removed]",
      "text/plain": [
       "<Figure size 432x288 with 1 Axes>"
      ]
     },
     "metadata": {
      "needs_background": "light"
     },
     "output_type": "display_data"
    }
   ],
   "source": [
    "# plot between PCA1 and PCA2 \n",
    "x = pca_values[:,0]\n",
    "y = pca_values[:,1]\n",
    "#z = pca_values[:2:3]\n",
    "plt.scatter(x,y)"
   ]
  },
  {
   "cell_type": "code",
   "execution_count": null,
   "id": "297708ae",
   "metadata": {},
   "outputs": [],
   "source": []
  }
 ],
 "metadata": {
  "kernelspec": {
   "display_name": "Python 3 (ipykernel)",
   "language": "python",
   "name": "python3"
  },
  "language_info": {
   "codemirror_mode": {
    "name": "ipython",
    "version": 3
   },
   "file_extension": ".py",
   "mimetype": "text/x-python",
   "name": "python",
   "nbconvert_exporter": "python",
   "pygments_lexer": "ipython3",
   "version": "3.9.12"
  }
 },
 "nbformat": 4,
 "nbformat_minor": 5
}
